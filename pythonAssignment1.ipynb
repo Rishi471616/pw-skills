{
 "cells": [
  {
   "cell_type": "markdown",
   "id": "7b3b3102-fd71-4812-9f8f-5c47aaefaf84",
   "metadata": {},
   "source": [
    "Question.1"
   ]
  },
  {
   "cell_type": "code",
   "execution_count": 3,
   "id": "66972e5c-833c-4201-b92b-12a87bc7f0d8",
   "metadata": {},
   "outputs": [
    {
     "name": "stdout",
     "output_type": "stream",
     "text": [
      "[1, 3, 5, 7, 9, 11, 13, 15, 17, 19, 21, 23, 25]\n"
     ]
    }
   ],
   "source": [
    "def get_odd_numbers():\n",
    "    odd_numbers = []\n",
    "    for num in range(1, 26):\n",
    "        if num % 2 != 0:\n",
    "            odd_numbers.append(num)\n",
    "    return odd_numbers\n",
    "\n",
    "print(get_odd_numbers())"
   ]
  },
  {
   "cell_type": "markdown",
   "id": "0c920629-997b-494a-8132-be3f5a7b89ac",
   "metadata": {},
   "source": [
    "Question.2"
   ]
  },
  {
   "cell_type": "markdown",
   "id": "a5c58603-9153-4e75-8bd0-39cb5f50ef0e",
   "metadata": {},
   "source": [
    "In Python, '*args' and '**kwargs' are used to handle variable-length arguments in functions.\n",
    "\n",
    "The *args parameter allows a function to accept a variable number of positional arguments. It collects all the positional arguments passed to the function into a tuple. This is useful when you want to create a function that can take an arbitrary number of arguments without specifying them upfront.\n",
    "\n",
    "Here's an example of a function that uses *args to calculate the sum of all the arguments passed to it:"
   ]
  },
  {
   "cell_type": "code",
   "execution_count": 4,
   "id": "50dc885c-e242-4e64-93cf-626ee1da3357",
   "metadata": {},
   "outputs": [
    {
     "name": "stdout",
     "output_type": "stream",
     "text": [
      "6\n",
      "100\n",
      "5\n"
     ]
    }
   ],
   "source": [
    "def sum_all(*args):\n",
    "    total = 0\n",
    "    for num in args:\n",
    "        total += num\n",
    "    return total\n",
    "\n",
    "# Call the function with different numbers of arguments\n",
    "print(sum_all(1, 2, 3))      \n",
    "print(sum_all(10, 20, 30, 40)) \n",
    "print(sum_all(5))             \n"
   ]
  },
  {
   "cell_type": "markdown",
   "id": "a89a9c39-591c-4aae-9fc0-ee069ed95178",
   "metadata": {},
   "source": [
    "In this example, the sum_all function accepts any number of arguments. The *args parameter collects these arguments into a tuple called args. The function then iterates over the args tuple and calculates the sum of all the numbers.\n",
    "\n",
    "On the other hand, **kwargs stands for \"keyword arguments\" and allows a function to accept a variable number of keyword arguments, which are passed as a dictionary. It is useful when you want to pass key-value pairs to a function without specifying them upfront.\n",
    "\n",
    "Here's an example of a function that uses **kwargs to print key-value pairs passed to it:"
   ]
  },
  {
   "cell_type": "code",
   "execution_count": 5,
   "id": "8296fb80-36bf-4544-bc35-6676dbc3fdee",
   "metadata": {},
   "outputs": [
    {
     "name": "stdout",
     "output_type": "stream",
     "text": [
      "name: John\n",
      "age: 25\n",
      "country: USA\n",
      "city: New York\n",
      "language: English\n"
     ]
    }
   ],
   "source": [
    "def print_info(**kwargs):\n",
    "    for key, value in kwargs.items():\n",
    "        print(f\"{key}: {value}\")\n",
    "\n",
    "# Call the function with different keyword arguments\n",
    "print_info(name=\"John\", age=25)\n",
    "\n",
    "\n",
    "print_info(country=\"USA\", city=\"New York\", language=\"English\")\n",
    "\n"
   ]
  },
  {
   "cell_type": "markdown",
   "id": "7e72ba50-a81f-4fba-b72f-2ef814af6676",
   "metadata": {},
   "source": [
    "In this example, the print_info function accepts any number of keyword arguments. The **kwargs parameter collects these arguments into a dictionary called kwargs. The function then iterates over the key-value pairs in the kwargs dictionary and prints them.\n",
    "\n",
    "Both *args and **kwargs provide flexibility in handling different numbers of arguments in functions, allowing you to create more generic and versatile code.\n",
    "\n",
    "\n",
    "\n",
    "\n"
   ]
  },
  {
   "cell_type": "markdown",
   "id": "6e226bb8-8c29-4ba8-aec6-c2ec756cefd7",
   "metadata": {},
   "source": [
    "Question.3"
   ]
  },
  {
   "cell_type": "markdown",
   "id": "9be99188-1f75-4738-ac23-45eee453954f",
   "metadata": {},
   "source": [
    "In Python, an iterator is an object that implements the iterator protocol, which consists of the __iter__() method and the __next__() method. Iterators are used to iterate over a sequence of elements, such as a list, tuple, or custom-defined object, allowing you to access one element at a time.\n",
    "\n",
    "The __iter__() method is used to initialize the iterator object. It returns the iterator object itself and is called when you create an iterator. The __next__() method is used to fetch the next element from the iterator. It returns the next element in the sequence and raises the StopIteration exception when there are no more elements to be retrieved.\n",
    "\n",
    "Here's an example that demonstrates how to use these methods to print the first five elements of the given list [2, 4, 6, 8, 10, 12, 14, 16, 18, 20]:\n",
    "\n"
   ]
  },
  {
   "cell_type": "code",
   "execution_count": 6,
   "id": "6f561379-04b1-4de8-b8a4-5eb834ef7e40",
   "metadata": {},
   "outputs": [
    {
     "name": "stdout",
     "output_type": "stream",
     "text": [
      "2\n",
      "4\n",
      "6\n",
      "8\n",
      "10\n"
     ]
    }
   ],
   "source": [
    "numbers = [2, 4, 6, 8, 10, 12, 14, 16, 18, 20]\n",
    "\n",
    "# Create an iterator object using iter()\n",
    "iterator = iter(numbers)\n",
    "\n",
    "# Iterate over the iterator using next() and print the first five elements\n",
    "for _ in range(5):\n",
    "    element = next(iterator)\n",
    "    print(element)\n"
   ]
  },
  {
   "cell_type": "markdown",
   "id": "09a08d3b-d25b-4413-a1e9-adb9d96192f3",
   "metadata": {},
   "source": [
    "In this example, we start with a list called numbers. We create an iterator object using the iter() function, passing in the numbers list. Then, we iterate over the iterator using a for loop. In each iteration, we call the next() function on the iterator to fetch the next element. The first five elements are printed to the console.\n",
    "\n",
    "Note that after the fifth element, when there are no more elements to retrieve, calling 'next()' will raise a 'StopIteration' exception."
   ]
  },
  {
   "cell_type": "markdown",
   "id": "b773935c-9082-41ce-b684-8277ff998ec7",
   "metadata": {},
   "source": [
    "Question.4"
   ]
  },
  {
   "cell_type": "markdown",
   "id": "18b6ee2a-9268-4c31-a1fa-8730559c872a",
   "metadata": {},
   "source": [
    "In Python, a generator function is a special type of function that returns an iterator, which can be used to generate a series of values on-the-fly. It allows you to create iterators in a more concise and memory-efficient manner compared to creating a full list of values.\n",
    "\n",
    "The key feature of a generator function is the use of the yield keyword. When a generator function is called, it returns a generator object. The generator object can be iterated over using the next() function, and each time the yield keyword is encountered, the function's state is saved, and the yielded value is returned. The next time the generator is iterated, it resumes execution from where it left off, maintaining its internal state.\n",
    "\n",
    "The yield keyword allows the generator function to generate a sequence of values one at a time, rather than computing and storing all the values in memory at once. This makes generator functions useful when dealing with large data sets or when you want to generate values on-the-fly without the need to store them all in memory.\n",
    "\n",
    "Here's an example of a generator function that generates a sequence of Fibonacci numbers:\n",
    "\n"
   ]
  },
  {
   "cell_type": "code",
   "execution_count": 7,
   "id": "e478eb89-3d8c-4506-a25a-bb55710b344a",
   "metadata": {},
   "outputs": [
    {
     "name": "stdout",
     "output_type": "stream",
     "text": [
      "0\n",
      "1\n",
      "1\n",
      "2\n",
      "3\n",
      "5\n",
      "8\n",
      "13\n",
      "21\n",
      "34\n"
     ]
    }
   ],
   "source": [
    "def fibonacci():\n",
    "    a, b = 0, 1\n",
    "    while True:\n",
    "        yield a\n",
    "        a, b = b, a + b\n",
    "\n",
    "# Create a generator object\n",
    "fib_gen = fibonacci()\n",
    "\n",
    "# Iterate over the generator and print the first ten Fibonacci numbers\n",
    "for _ in range(10):\n",
    "    print(next(fib_gen))\n"
   ]
  },
  {
   "cell_type": "markdown",
   "id": "347e575f-d87e-41d2-a756-db35312b9915",
   "metadata": {},
   "source": [
    "In this example, the fibonacci() function is a generator function that generates Fibonacci numbers. It uses an infinite loop (while True) to continuously generate the sequence. The yield a statement yields the current Fibonacci number (a), and the function's state is saved. The a and b variables are updated to calculate the next Fibonacci number in each iteration.\n",
    "\n",
    "By creating a generator object with fib_gen = fibonacci(), we can iterate over it using next(fib_gen). Each call to next() retrieves the next Fibonacci number from the generator, and the function execution is resumed from where it left off. In the example, we print the first ten Fibonacci numbers using a for loop.\n",
    "\n",
    "The use of generator functions and the yield keyword provides a convenient and efficient way to generate sequences of values, especially when the sequence is large or infinite.\n",
    "\n",
    "\n",
    "\n",
    "\n"
   ]
  },
  {
   "cell_type": "markdown",
   "id": "e4b39231-7835-4c88-ae22-e7ffdead34c3",
   "metadata": {},
   "source": [
    "Question.5"
   ]
  },
  {
   "cell_type": "code",
   "execution_count": 2,
   "id": "91e389ee-eaae-49fc-9d68-c2df343e8452",
   "metadata": {},
   "outputs": [
    {
     "name": "stdout",
     "output_type": "stream",
     "text": [
      "2\n",
      "3\n",
      "5\n",
      "7\n",
      "11\n",
      "13\n",
      "17\n",
      "19\n",
      "23\n",
      "29\n",
      "31\n",
      "37\n",
      "41\n",
      "43\n",
      "47\n",
      "53\n",
      "59\n",
      "61\n",
      "67\n",
      "71\n"
     ]
    }
   ],
   "source": [
    "def prime_generator():\n",
    "    primes = []\n",
    "    num = 2\n",
    "    while True:\n",
    "        is_prime = True\n",
    "        for prime in primes:\n",
    "            if num % prime == 0:\n",
    "                is_prime = False\n",
    "                break\n",
    "        if is_prime:\n",
    "            primes.append(num)\n",
    "            yield num\n",
    "        num += 1\n",
    "\n",
    "# Create a generator object\n",
    "prime_gen = prime_generator()\n",
    "\n",
    "# Print the first 20 prime numbers using next()\n",
    "for _ in range(20):\n",
    "    print(next(prime_gen))\n"
   ]
  },
  {
   "cell_type": "markdown",
   "id": "c4b84b48-1ebd-44f7-942c-8ab9195fc3ab",
   "metadata": {},
   "source": [
    "Question.6"
   ]
  },
  {
   "cell_type": "code",
   "execution_count": 3,
   "id": "6571b943-87b9-4aa2-a5fe-31bb47eafd5b",
   "metadata": {},
   "outputs": [
    {
     "name": "stdout",
     "output_type": "stream",
     "text": [
      "0\n",
      "1\n",
      "1\n",
      "2\n",
      "3\n",
      "5\n",
      "8\n",
      "13\n",
      "21\n",
      "34\n"
     ]
    }
   ],
   "source": [
    "def fibonacci():\n",
    "    a, b = 0, 1\n",
    "    while True:\n",
    "        yield a\n",
    "        a, b = b, a + b\n",
    "\n",
    "# Create a generator object\n",
    "fib_gen = fibonacci()\n",
    "\n",
    "# Iterate over the generator and print the first ten Fibonacci numbers\n",
    "for _ in range(10):\n",
    "    print(next(fib_gen))\n"
   ]
  },
  {
   "cell_type": "markdown",
   "id": "2b1af952-db5b-4795-b14e-7f39bf7341d8",
   "metadata": {},
   "source": [
    "Question.7"
   ]
  },
  {
   "cell_type": "code",
   "execution_count": 4,
   "id": "fd4a4b82-6ad2-490b-8b55-4d7329cfeeaf",
   "metadata": {},
   "outputs": [
    {
     "name": "stdout",
     "output_type": "stream",
     "text": [
      "['p', 'w', 's', 'k', 'i', 'l', 'l', 's']\n"
     ]
    }
   ],
   "source": [
    "string = 'pwskills'\n",
    "result = [char for char in string]\n",
    "\n",
    "print(result)\n"
   ]
  },
  {
   "cell_type": "markdown",
   "id": "87f205c9-409f-4dd4-b270-e6b748a87026",
   "metadata": {},
   "source": [
    "Question.8"
   ]
  },
  {
   "cell_type": "code",
   "execution_count": 9,
   "id": "5b216cc5-9b1b-4992-a091-75367c92a0cd",
   "metadata": {},
   "outputs": [
    {
     "name": "stdout",
     "output_type": "stream",
     "text": [
      "12321 is a palindrome\n",
      "45845 is not a palindrome\n"
     ]
    }
   ],
   "source": [
    "def is_palindrome(number):\n",
    "    original_number = number\n",
    "    reverse = 0\n",
    "\n",
    "    while number > 0:\n",
    "        remainder = number % 10\n",
    "        reverse = (reverse * 10) + remainder\n",
    "        number = number // 10\n",
    "\n",
    "    if original_number == reverse:\n",
    "        return True\n",
    "    else:\n",
    "        return False\n",
    "    # Test the function with different numbers\n",
    "num1 = 12321\n",
    "num2 = 45845\n",
    "\n",
    "if is_palindrome(num1):\n",
    "    print(num1, \"is a palindrome\")\n",
    "else:\n",
    "    print(num1, \"is not a palindrome\")\n",
    "\n",
    "if is_palindrome(num2):\n",
    "    print(num2, \"is a palindrome\")\n",
    "else:\n",
    "    print(num2, \"is not a palindrome\")\n"
   ]
  },
  {
   "cell_type": "markdown",
   "id": "2031c80f-e59a-4d12-aa13-3eda8216f96f",
   "metadata": {},
   "source": [
    "Question.9"
   ]
  },
  {
   "cell_type": "code",
   "execution_count": null,
   "id": "87931f5c-fba5-4eb3-81fa-e3237072574f",
   "metadata": {},
   "outputs": [],
   "source": [
    "Write a code to print odd numbers from 1 to 100 using list comprehension.\n"
   ]
  }
 ],
 "metadata": {
  "kernelspec": {
   "display_name": "Python 3 (ipykernel)",
   "language": "python",
   "name": "python3"
  },
  "language_info": {
   "codemirror_mode": {
    "name": "ipython",
    "version": 3
   },
   "file_extension": ".py",
   "mimetype": "text/x-python",
   "name": "python",
   "nbconvert_exporter": "python",
   "pygments_lexer": "ipython3",
   "version": "3.10.8"
  }
 },
 "nbformat": 4,
 "nbformat_minor": 5
}
