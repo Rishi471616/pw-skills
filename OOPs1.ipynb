{
 "cells": [
  {
   "cell_type": "markdown",
   "id": "714eba57-0c23-4d14-8229-530be9af5386",
   "metadata": {},
   "source": [
    "In object-oriented programming (OOP), a class is a blueprint or a template for creating objects. It defines the structure and behavior of objects of that particular type. A class encapsulates data (attributes) and methods (functions) that operate on that data. It serves as a blueprint for creating multiple instances of objects with similar properties and behaviors.\n",
    "\n",
    "On the other hand, an object is an instance of a class. It is a tangible entity that exists in memory and can be manipulated using the methods defined in its class. Objects have their own unique set of attributes and can perform actions or exhibit behaviors defined by the class.\n",
    "\n",
    "Let's consider an example to illustrate the concept of a class and an object. We'll create a class called \"Car\" that represents different cars in a simulation:\n",
    "\n",
    "\n",
    "\n",
    "In this example, we defined a class called \"Car\" with attributes like `brand`, `model`, `color`, and `speed`. It also has methods like `accelerate`, `brake`, and `display_info`. We then created two instances of the Car class: `car1` and `car2`, each with its own set of attributes. We accessed these attributes and invoked methods on these objects to simulate their behavior.\n",
    "\n",
    "By using classes and objects, we can create multiple instances of similar objects, each with its own distinct data and behavior. Classes provide a way to organize and structure code, promoting code reusability and maintainability in large-scale applications."
   ]
  },
  {
   "cell_type": "code",
   "execution_count": null,
   "id": "30646883-06ef-4c08-b557-42d6702a01a6",
   "metadata": {},
   "outputs": [],
   "source": [
    "Q1"
   ]
  },
  {
   "cell_type": "code",
   "execution_count": 1,
   "id": "9f6293c5-81ae-4124-819e-4df53c63c3f2",
   "metadata": {},
   "outputs": [
    {
     "name": "stdout",
     "output_type": "stream",
     "text": [
      "Brand: Tesla\n",
      "Model: Model S\n",
      "Color: Red\n",
      "Current Speed: 50 km/h\n",
      "Brand: Ford\n",
      "Model: Mustang\n",
      "Color: Blue\n",
      "Current Speed: 20 km/h\n"
     ]
    }
   ],
   "source": [
    "class Car:\n",
    "    def __init__(self, brand, model, color):\n",
    "        self.brand = brand\n",
    "        self.model = model\n",
    "        self.color = color\n",
    "        self.speed = 0\n",
    "\n",
    "    def accelerate(self, increment):\n",
    "        self.speed += increment\n",
    "\n",
    "    def brake(self, decrement):\n",
    "        self.speed -= decrement\n",
    "\n",
    "    def display_info(self):\n",
    "        print(f\"Brand: {self.brand}\")\n",
    "        print(f\"Model: {self.model}\")\n",
    "        print(f\"Color: {self.color}\")\n",
    "        print(f\"Current Speed: {self.speed} km/h\")\n",
    "\n",
    "# Creating objects (instances) of the Car class\n",
    "car1 = Car(\"Tesla\", \"Model S\", \"Red\")\n",
    "car2 = Car(\"Ford\", \"Mustang\", \"Blue\")\n",
    "\n",
    "# Accessing object attributes and invoking methods\n",
    "car1.accelerate(50)\n",
    "car1.display_info()\n",
    "\n",
    "car2.accelerate(30)\n",
    "car2.brake(10)\n",
    "car2.display_info()"
   ]
  },
  {
   "cell_type": "code",
   "execution_count": null,
   "id": "a374002d-3ea2-4ac2-bea5-9b46548dc8e2",
   "metadata": {},
   "outputs": [],
   "source": [
    "Q2"
   ]
  },
  {
   "cell_type": "markdown",
   "id": "62bb8a9d-c2cd-4d09-a08e-28696b96d2ef",
   "metadata": {},
   "source": [
    "The four pillars of object-oriented programming (OOP) are:\n",
    "\n",
    "1. Encapsulation: Encapsulation is the process of bundling data and the methods that operate on that data into a single unit, called a class. It allows the class to control access to its data by providing methods to manipulate the data while hiding the internal implementation details. Encapsulation helps in achieving data abstraction and provides data security and integrity.\n",
    "\n",
    "2. Inheritance: Inheritance is a mechanism that allows a class to inherit properties and behaviors from another class, known as the parent or base class. The class that inherits the properties and behaviors is called the child or derived class. Inheritance promotes code reusability by allowing the child class to inherit and extend the functionality of the parent class. It helps in creating a hierarchical relationship between classes, enabling the creation of specialized classes based on more general ones.\n",
    "\n",
    "3. Polymorphism: Polymorphism means the ability of an object to take on multiple forms or have multiple behaviors. In the context of OOP, polymorphism allows objects of different classes to be treated as objects of a common base class. It enables methods to be defined in the base class and overridden in the derived classes, allowing different implementations of the same method based on the specific class instance. Polymorphism promotes flexibility and extensibility in software design.\n",
    "\n",
    "4. Abstraction: Abstraction refers to the concept of representing complex real-world entities as simplified models within the program. It involves focusing on essential features while hiding unnecessary details. Abstraction allows programmers to create abstract classes and interfaces that define a common set of methods without providing the implementation details. It enables the separation of the interface from the implementation, making code more modular and easier to maintain. Abstraction helps in managing complexity and enhancing code readability and usability.\n",
    "\n",
    "These four pillars of OOP provide a foundation for designing and implementing modular, reusable, and maintainable software systems. They facilitate code organization, promote code reuse, and improve overall software quality."
   ]
  },
  {
   "cell_type": "code",
   "execution_count": null,
   "id": "0e40feea-d151-43c1-9c90-1d6abc5fc04e",
   "metadata": {},
   "outputs": [],
   "source": [
    "Q3"
   ]
  },
  {
   "cell_type": "markdown",
   "id": "a3fe14d4-4343-43e1-9a5a-f4a4fb5e410c",
   "metadata": {},
   "source": [
    "In object-oriented programming, the `__init__()` function, also known as the constructor, is a special method that is automatically called when an object is created from a class. It is used to initialize the attributes of an object and perform any necessary setup or initialization tasks.\n",
    "\n",
    "The primary purpose of the `__init__()` function is to ensure that an object is properly initialized with its initial state and any required values. It allows you to define and assign values to the attributes of an object at the time of its creation. By providing initial values to the attributes, you can ensure that the object starts in a valid and consistent state.\n",
    "\n",
    "Here's an example to illustrate the usage of the `__init__()` function:\n",
    "\n",
    "\n",
    "\n",
    "In this example, we have a class called \"Person\" with attributes `name` and `age`. The `__init__()` method is defined to initialize these attributes with values passed as arguments during object creation. The `self` parameter refers to the object itself, allowing us to assign the values to its attributes.\n",
    "\n",
    "When we create objects using the `Person` class, such as `person1` and `person2`, the `__init__()` method is automatically called for each object, and the provided arguments are used to set the initial values of the `name` and `age` attributes.\n",
    "\n",
    "By utilizing the `__init__()` function, we ensure that every object of the class is properly initialized with the required attributes, avoiding any inconsistencies or errors in the object's state."
   ]
  },
  {
   "cell_type": "code",
   "execution_count": 2,
   "id": "cfe51323-9756-439f-9abe-4f438e5ab6dc",
   "metadata": {},
   "outputs": [
    {
     "name": "stdout",
     "output_type": "stream",
     "text": [
      "Name: John Doe\n",
      "Age: 30\n",
      "Name: Jane Smith\n",
      "Age: 25\n"
     ]
    }
   ],
   "source": [
    "\n",
    "class Person:\n",
    "    def __init__(self, name, age):\n",
    "        self.name = name\n",
    "        self.age = age\n",
    "\n",
    "    def display_info(self):\n",
    "        print(f\"Name: {self.name}\")\n",
    "        print(f\"Age: {self.age}\")\n",
    "\n",
    "# Creating objects (instances) of the Person class\n",
    "person1 = Person(\"John Doe\", 30)\n",
    "person2 = Person(\"Jane Smith\", 25)\n",
    "\n",
    "# Accessing object attributes and invoking methods\n",
    "person1.display_info()\n",
    "person2.display_info()"
   ]
  },
  {
   "cell_type": "code",
   "execution_count": null,
   "id": "d8806913-7d63-48cf-8626-ed90d48bf61f",
   "metadata": {},
   "outputs": [],
   "source": [
    "Q4"
   ]
  },
  {
   "cell_type": "markdown",
   "id": "2d13572e-dce4-48f0-b26d-b79396160e79",
   "metadata": {},
   "source": [
    "In object-oriented programming (OOP), the `self` parameter is used to refer to the instance of a class within its methods. It acts as a reference to the current object or instance that the method is being called on. The `self` parameter allows access to the attributes and methods of the object, enabling manipulation of its data and behavior.\n",
    "\n",
    "Here are a few reasons why `self` is used in OOP:\n",
    "\n",
    "1. Accessing instance attributes: By using `self`, you can access the attributes specific to the current instance of the class. It allows you to retrieve or modify the values of the object's attributes within the methods.\n",
    "\n",
    "2. Invoking instance methods: `self` is required to invoke other instance methods within a class. When calling a method on an object, `self` ensures that the method is called on the specific instance, allowing access to its attributes and performing operations related to that instance.\n",
    "\n",
    "3. Differentiating between instance and local variables: `self` helps to distinguish between instance variables and local variables with the same name within a method. It ensures that you're referring to the instance attributes when using `self.attribute_name` instead of a local variable.\n",
    "\n",
    "4. Enabling method chaining: By returning `self` at the end of a method, you can enable method chaining. Method chaining allows multiple method calls to be chained together in a single line, enhancing code readability and conciseness.\n",
    "\n",
    "Here's an example to demonstrate the usage of `self`:\n",
    "\n",
    "\n",
    "\n",
    "\n",
    "In this example, the `self` parameter is used within the `display_info()` and `celebrate_birthday()` methods. It allows access to the instance attributes (`self.name` and `self.age`) and enables the methods to perform actions on the specific object represented by `self`.\n",
    "\n",
    "By utilizing `self`, objects can maintain their own state, perform operations on their attributes, and interact with other objects of the same class. It is an essential concept in OOP that facilitates encapsulation and enables objects to exhibit behavior specific to their instances."
   ]
  },
  {
   "cell_type": "code",
   "execution_count": 4,
   "id": "b8261602-d647-4ac5-b2e1-e470138def7d",
   "metadata": {},
   "outputs": [
    {
     "name": "stdout",
     "output_type": "stream",
     "text": [
      "Name: John Doe\n",
      "Age: 30\n",
      "Happy birthday!\n",
      "Name: John Doe\n",
      "Age: 31\n"
     ]
    }
   ],
   "source": [
    "\n",
    "class Person:\n",
    "    def __init__(self, name, age):\n",
    "        self.name = name\n",
    "        self.age = age\n",
    "\n",
    "    def display_info(self):\n",
    "        print(f\"Name: {self.name}\")\n",
    "        print(f\"Age: {self.age}\")\n",
    "\n",
    "    def celebrate_birthday(self):\n",
    "        self.age += 1\n",
    "        print(\"Happy birthday!\")\n",
    "\n",
    "# Creating an object (instance) of the Person class\n",
    "person = Person(\"John Doe\", 30)\n",
    "# Accessing object attributes and invoking methods using self\n",
    "person.display_info()  # Outputs current name and age\n",
    "person.celebrate_birthday()  # Modifies age attribute and prints a message\n",
    "person.display_info()  # Outputs updated age\n"
   ]
  },
  {
   "cell_type": "code",
   "execution_count": null,
   "id": "587eae00-d55f-43f3-8028-c7299fa44130",
   "metadata": {},
   "outputs": [],
   "source": [
    "Q5"
   ]
  },
  {
   "cell_type": "markdown",
   "id": "4c1f244d-9897-444a-9dc5-bf8c1cc84839",
   "metadata": {},
   "source": [
    "Inheritance is a fundamental concept in object-oriented programming (OOP) that allows a class to inherit properties and behaviors from another class. The class that inherits from another class is called the derived class or subclass, and the class being inherited from is called the base class, parent class, or superclass. Inheritance promotes code reuse, modularity, and the creation of specialized classes based on more general ones.\n",
    "\n",
    "There are different types of inheritance relationships:\n",
    "\n",
    "1. Single Inheritance: In single inheritance, a derived class inherits properties and behaviors from a single base class. It forms a one-to-one inheritance relationship. Here's an example:\n",
    "\n",
    "```python\n",
    "class Animal:\n",
    "    def eat(self):\n",
    "        print(\"Animal is eating...\")\n",
    "\n",
    "\n",
    "class Dog(Animal):\n",
    "    def bark(self):\n",
    "        print(\"Dog is barking...\")\n",
    "\n",
    "\n",
    "# Creating an object of the Dog class and invoking inherited and defined methods\n",
    "dog = Dog()\n",
    "dog.eat()  # Inherited method from Animal class\n",
    "dog.bark()  # Defined method in Dog class\n",
    "```\n",
    "\n",
    "In this example, the `Dog` class inherits from the `Animal` class. The `Dog` class can access and use the `eat()` method defined in the `Animal` class.\n",
    "\n",
    "2. Multiple Inheritance: Multiple inheritance allows a derived class to inherit properties and behaviors from multiple base classes. It forms a one-to-many inheritance relationship. Here's an example:\n",
    "\n",
    "```python\n",
    "class Flyable:\n",
    "    def fly(self):\n",
    "        print(\"Flying...\")\n",
    "\n",
    "\n",
    "class Swimmable:\n",
    "    def swim(self):\n",
    "        print(\"Swimming...\")\n",
    "\n",
    "\n",
    "class Duck(Flyable, Swimmable):\n",
    "    def quack(self):\n",
    "        print(\"Quack!\")\n",
    "\n",
    "\n",
    "# Creating an object of the Duck class and invoking inherited and defined methods\n",
    "duck = Duck()\n",
    "duck.fly()  # Inherited method from Flyable class\n",
    "duck.swim()  # Inherited method from Swimmable class\n",
    "duck.quack()  # Defined method in Duck class\n",
    "```\n",
    "\n",
    "In this example, the `Duck` class inherits from both the `Flyable` and `Swimmable` classes. The `Duck` class inherits the `fly()` method from the `Flyable` class and the `swim()` method from the `Swimmable` class.\n",
    "\n",
    "3. Multilevel Inheritance: Multilevel inheritance involves creating a chain of inheritance with multiple levels of derived classes. Each derived class inherits from a superclass, which can be another derived class itself. Here's an example:\n",
    "\n",
    "```python\n",
    "class Vehicle:\n",
    "    def start(self):\n",
    "        print(\"Vehicle is starting...\")\n",
    "\n",
    "\n",
    "class Car(Vehicle):\n",
    "    def drive(self):\n",
    "        print(\"Car is driving...\")\n",
    "\n",
    "\n",
    "class SportsCar(Car):\n",
    "    def accelerate(self):\n",
    "        print(\"Sports car is accelerating...\")\n",
    "\n",
    "\n",
    "# Creating an object of the SportsCar class and invoking inherited and defined methods\n",
    "sports_car = SportsCar()\n",
    "sports_car.start()  # Inherited method from Vehicle class\n",
    "sports_car.drive()  # Inherited method from Car class\n",
    "sports_car.accelerate()  # Defined method in SportsCar class\n",
    "```\n",
    "\n",
    "In this example, the `SportsCar` class inherits from the `Car` class, which itself inherits from the `Vehicle` class. The `SportsCar` class inherits the `start()` method from the `Vehicle` class and the `drive()` method from the `Car` class, while also defining its own `accelerate()` method.\n",
    "\n",
    "4. Hierarchical Inheritance: Hierarchical inheritance involves multiple derived classes inheriting from a single base class. It forms a one-to-many inheritance relationship. Here's an example:\n",
    "\n",
    "```python\n",
    "class Shape:\n",
    "    def draw(self):\n",
    "        print(\"Drawing shape...\")\n",
    "\n",
    "\n",
    "class Circle(Shape):\n",
    "    def draw(self):\n",
    "        print(\"Drawing circle...\")\n",
    "\n",
    "\n",
    "class Square(Shape):\n",
    "    def draw(self):\n",
    "        print(\"Drawing square...\")\n",
    "\n",
    "\n",
    "# Creating objects of the Circle and Square classes and invoking inherited methods\n",
    "circle = Circle()\n",
    "circle.draw()  # Overridden method in Circle class\n",
    "\n",
    "square = Square()\n",
    "square.draw()  # Overridden method in Square class\n",
    "```\n",
    "\n",
    "In this example, both the `Circle` and `Square` classes inherit from the `Shape` class. Each derived class overrides the `draw()` method of the `Shape` class with its own implementation.\n",
    "\n",
    "These examples demonstrate different types of inheritance relationships in OOP, highlighting how classes can inherit and extend properties and behaviors from other classes. Inheritance allows for code reuse, promotes modularity, and facilitates the creation of a class hierarchy."
   ]
  }
 ],
 "metadata": {
  "kernelspec": {
   "display_name": "Python 3 (ipykernel)",
   "language": "python",
   "name": "python3"
  },
  "language_info": {
   "codemirror_mode": {
    "name": "ipython",
    "version": 3
   },
   "file_extension": ".py",
   "mimetype": "text/x-python",
   "name": "python",
   "nbconvert_exporter": "python",
   "pygments_lexer": "ipython3",
   "version": "3.10.8"
  }
 },
 "nbformat": 4,
 "nbformat_minor": 5
}
