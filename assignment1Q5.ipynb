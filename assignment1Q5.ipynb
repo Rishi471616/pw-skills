{
 "cells": [
  {
   "cell_type": "code",
   "execution_count": 11,
   "id": "3dd1f0b4-2faf-4015-aa95-9ec9c6b264e5",
   "metadata": {},
   "outputs": [
    {
     "name": "stdin",
     "output_type": "stream",
     "text": [
      " 123\n",
      " 5\n"
     ]
    },
    {
     "name": "stdout",
     "output_type": "stream",
     "text": [
      "123 cannot be divided by 5\n"
     ]
    }
   ],
   "source": [
    "A = int(input())\n",
    "B = int(input())\n",
    "\n",
    "count = 0\n",
    "\n",
    "while A%B ==0:\n",
    "    A = A/B\n",
    "    count += 1\n",
    "\n",
    "if count > 0:\n",
    "    print (f\" {A} can be divided by {B} in {count} times \")\n",
    "else:\n",
    "        print(f\"{A} cannot be divided by {B}\")"
   ]
  },
  {
   "cell_type": "code",
   "execution_count": null,
   "id": "138772ef-1990-49f1-bd39-ac8994f8c45e",
   "metadata": {},
   "outputs": [],
   "source": []
  }
 ],
 "metadata": {
  "kernelspec": {
   "display_name": "Python 3 (ipykernel)",
   "language": "python",
   "name": "python3"
  },
  "language_info": {
   "codemirror_mode": {
    "name": "ipython",
    "version": 3
   },
   "file_extension": ".py",
   "mimetype": "text/x-python",
   "name": "python",
   "nbconvert_exporter": "python",
   "pygments_lexer": "ipython3",
   "version": "3.10.8"
  }
 },
 "nbformat": 4,
 "nbformat_minor": 5
}
