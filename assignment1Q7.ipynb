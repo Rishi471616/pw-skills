{
 "cells": [
  {
   "cell_type": "markdown",
   "id": "f46e581b-c99f-4164-8610-a55a1c5e33d7",
   "metadata": {},
   "source": [
    "#mutable and immutable\n",
    "mutable data type means if you assign a value you can change it later but in immutable data type if you assign a value you can not change it later."
   ]
  },
  {
   "cell_type": "code",
   "execution_count": 1,
   "id": "bc09a247-6109-4d07-8571-eaaa9c0314a8",
   "metadata": {},
   "outputs": [
    {
     "name": "stdout",
     "output_type": "stream",
     "text": [
      "[1, 2, 3, 4, 5, 6]\n"
     ]
    }
   ],
   "source": [
    "n = [1,2,3,4,5,6]\n",
    "\n",
    "print(n)"
   ]
  },
  {
   "cell_type": "code",
   "execution_count": 2,
   "id": "627181bb-b9d4-469d-8491-91da4648e0e5",
   "metadata": {},
   "outputs": [],
   "source": [
    "n.append(23)"
   ]
  },
  {
   "cell_type": "code",
   "execution_count": 3,
   "id": "862c3381-e596-4b69-940d-3a6fbf23b193",
   "metadata": {},
   "outputs": [
    {
     "data": {
      "text/plain": [
       "[1, 2, 3, 4, 5, 6, 23]"
      ]
     },
     "execution_count": 3,
     "metadata": {},
     "output_type": "execute_result"
    }
   ],
   "source": [
    "n"
   ]
  },
  {
   "cell_type": "code",
   "execution_count": 8,
   "id": "b8b4e9a1-eaeb-4994-b86f-5eba54226cbd",
   "metadata": {},
   "outputs": [
    {
     "ename": "AttributeError",
     "evalue": "'tuple' object has no attribute 'append'",
     "output_type": "error",
     "traceback": [
      "\u001b[0;31m---------------------------------------------------------------------------\u001b[0m",
      "\u001b[0;31mAttributeError\u001b[0m                            Traceback (most recent call last)",
      "Cell \u001b[0;32mIn[8], line 2\u001b[0m\n\u001b[1;32m      1\u001b[0m n1 \u001b[38;5;241m=\u001b[39m (\u001b[38;5;241m1\u001b[39m,\u001b[38;5;241m2\u001b[39m,\u001b[38;5;241m3\u001b[39m,\u001b[38;5;241m4\u001b[39m,\u001b[38;5;241m5\u001b[39m,\u001b[38;5;241m6\u001b[39m,\u001b[38;5;241m7\u001b[39m,)\n\u001b[0;32m----> 2\u001b[0m \u001b[43mn1\u001b[49m\u001b[38;5;241;43m.\u001b[39;49m\u001b[43mappend\u001b[49m(\u001b[38;5;241m25\u001b[39m)\n",
      "\u001b[0;31mAttributeError\u001b[0m: 'tuple' object has no attribute 'append'"
     ]
    }
   ],
   "source": [
    "n1 = (1,2,3,4,5,6,7,)\n",
    "n1.append(25)"
   ]
  },
  {
   "cell_type": "code",
   "execution_count": null,
   "id": "7e6b74df-a9bc-4cba-b88c-015810b7d1f3",
   "metadata": {},
   "outputs": [],
   "source": []
  }
 ],
 "metadata": {
  "kernelspec": {
   "display_name": "Python 3 (ipykernel)",
   "language": "python",
   "name": "python3"
  },
  "language_info": {
   "codemirror_mode": {
    "name": "ipython",
    "version": 3
   },
   "file_extension": ".py",
   "mimetype": "text/x-python",
   "name": "python",
   "nbconvert_exporter": "python",
   "pygments_lexer": "ipython3",
   "version": "3.10.8"
  }
 },
 "nbformat": 4,
 "nbformat_minor": 5
}
