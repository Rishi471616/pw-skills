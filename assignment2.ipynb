{
 "cells": [
  {
   "cell_type": "markdown",
   "id": "2ecdfee8-89dc-4051-81c4-cc69489b9aae",
   "metadata": {},
   "source": [
    "Question.1"
   ]
  },
  {
   "cell_type": "markdown",
   "id": "8c5c2e23-b278-465f-a3e1-f26699b65373",
   "metadata": {},
   "source": [
    "there are two types of comments in python\n",
    "first is single line comment and second is multiline comment."
   ]
  },
  {
   "cell_type": "code",
   "execution_count": 2,
   "id": "cd66cef3-6bc2-4644-86e7-5e554356a65b",
   "metadata": {},
   "outputs": [
    {
     "name": "stdout",
     "output_type": "stream",
     "text": [
      "Hello World\n"
     ]
    }
   ],
   "source": [
    "#this is single line comment in python\n",
    "print(\"Hello World\")"
   ]
  },
  {
   "cell_type": "code",
   "execution_count": 1,
   "id": "04732bde-34d1-432b-94c4-c67054fe9523",
   "metadata": {},
   "outputs": [
    {
     "name": "stdout",
     "output_type": "stream",
     "text": [
      "Hello World\n"
     ]
    }
   ],
   "source": [
    "\"\"\" \n",
    "this is multi line comment.\n",
    "it can span\n",
    "across multiple line.\n",
    "\"\"\"\n",
    "print(\"Hello World\")"
   ]
  },
  {
   "cell_type": "markdown",
   "id": "5ccfe73a-125a-4438-87e0-7e0e01b2d917",
   "metadata": {},
   "source": [
    "Question.2"
   ]
  },
  {
   "cell_type": "markdown",
   "id": "7416b296-7c2b-4836-8afc-f8d6c63204c3",
   "metadata": {},
   "source": [
    "Variable is the name of memory location where we can store data. We can store any type of data."
   ]
  },
  {
   "cell_type": "code",
   "execution_count": 7,
   "id": "98c2d782-45b8-4664-983a-553c16678d3b",
   "metadata": {},
   "outputs": [],
   "source": [
    "var_name = 'Data'"
   ]
  },
  {
   "cell_type": "code",
   "execution_count": 8,
   "id": "fe717301-7c06-423d-ab24-74c7da3baf23",
   "metadata": {},
   "outputs": [
    {
     "data": {
      "text/plain": [
       "'Data'"
      ]
     },
     "execution_count": 8,
     "metadata": {},
     "output_type": "execute_result"
    }
   ],
   "source": [
    "var_name"
   ]
  },
  {
   "cell_type": "markdown",
   "id": "c99e4c03-8606-4dbb-8cfa-9aca4d4c26e5",
   "metadata": {},
   "source": [
    "Question.3"
   ]
  },
  {
   "cell_type": "markdown",
   "id": "dc046020-d7e9-41d7-a6e7-1aec98635361",
   "metadata": {},
   "source": [
    "\n",
    "In Python, you can convert one data type to another using type conversion functions or by using the constructors of the target data type. Here are some commonly used methods for type conversion:\n",
    "\n",
    "Implicit Type Conversion (Coercion): Python automatically performs implicit type conversion when it's safe to do so. For example, when performing arithmetic operations between different data types, Python automatically converts one type to another to complete the operation. For instance:"
   ]
  },
  {
   "cell_type": "code",
   "execution_count": 9,
   "id": "61bb7901-bd3d-4eff-ad5e-0bd6b99a6854",
   "metadata": {},
   "outputs": [
    {
     "name": "stdout",
     "output_type": "stream",
     "text": [
      "7.5\n"
     ]
    }
   ],
   "source": [
    "x = 5  # integer\n",
    "y = 2.5  # float\n",
    "\n",
    "result = x + y  # integer + float => float\n",
    "print(result)  # Output: 7.5\n"
   ]
  },
  {
   "cell_type": "markdown",
   "id": "56ec4558-8855-47bb-94f6-895d7bd62830",
   "metadata": {},
   "source": [
    "In this example, the integer 'x' is implicitly converted to a float to perform the addition operation, resulting in a float value.\n",
    "\n",
    "2.Explicit Type Conversion (Type Casting): You can explicitly convert one data type to another using type conversion functions or constructors. Here are some common type conversion functions:\n",
    "\n",
    "int(): Converts a value to an integer.\n",
    "float(): Converts a value to a float.\n",
    "str(): Converts a value to a string.\n",
    "list(): Converts an iterable object to a list.\n",
    "tuple(): Converts an iterable object to a tuple.\n",
    "set(): Converts an iterable object to a set.\n",
    "dict(): Converts an iterable of key-value pairs to a dictionary.\n",
    "\n",
    "here are some example:"
   ]
  },
  {
   "cell_type": "code",
   "execution_count": 10,
   "id": "129f622b-4b9a-4dce-a9fb-a59be1614932",
   "metadata": {},
   "outputs": [
    {
     "name": "stdout",
     "output_type": "stream",
     "text": [
      "10\n",
      "3\n",
      "42\n",
      "(1, 2, 3)\n"
     ]
    }
   ],
   "source": [
    "# Convert a string to an integer\n",
    "num_str = \"10\"\n",
    "num_int = int(num_str)\n",
    "print(num_int)  \n",
    "\n",
    "# Convert a float to an integer\n",
    "num_float = 3.14\n",
    "num_int = int(num_float)\n",
    "print(num_int)  \n",
    "\n",
    "# Convert an integer to a string\n",
    "num_int = 42\n",
    "num_str = str(num_int)\n",
    "print(num_str)  \n",
    "\n",
    "# Convert a list to a tuple\n",
    "my_list = [1, 2, 3]\n",
    "my_tuple = tuple(my_list)\n",
    "print(my_tuple)  \n"
   ]
  },
  {
   "cell_type": "markdown",
   "id": "71c16f64-1281-4419-b285-698e4367a49b",
   "metadata": {},
   "source": [
    "In these examples, the int(), float(), and str() functions are used to explicitly convert values from one type to another.\n",
    "\n",
    "It's important to note that not all conversions are possible or meaningful. For instance, converting a non-numeric string to an integer will result in a ValueError if the string does not represent a valid integer. So, ensure that the conversion is valid and meaningful for the given data."
   ]
  },
  {
   "cell_type": "markdown",
   "id": "f6f89143-c4a2-4d92-b23c-e9160c9d24c8",
   "metadata": {},
   "source": [
    "Question.4"
   ]
  },
  {
   "cell_type": "markdown",
   "id": "68eb0f17-4c58-4d49-ad01-12175a6ff57d",
   "metadata": {},
   "source": [
    "To write and execute a Python script from the command line, follow these steps:\n",
    "\n",
    "1. Open a text editor or an integrated development environment (IDE) to write your Python script. For example, you can use a plain text editor like Notepad or a specialized Python IDE like PyCharm, Visual Studio Code, or Atom.\n",
    "\n",
    "2. Write your Python code in the text editor or IDE and save the file with a `.py` extension. For example, you can create a file named `my_script.py` and add your Python code inside it.\n",
    "\n",
    "3. Open the command line or terminal on your computer. The method to open the command line varies depending on your operating system. For example, on Windows, you can press Win + R, type \"cmd,\" and press Enter. On macOS, you can press Command + Space to open Spotlight, type \"terminal,\" and press Enter.\n",
    "\n",
    "4. Navigate to the directory where you saved your Python script using the `cd` command. For example, if your script is saved in the `Documents` folder, you can navigate to it by running:\n",
    "\n",
    "   \n",
    "   cd Documents\n",
    "   \n",
    "\n",
    "5. Once you are in the correct directory, you can execute your Python script by typing `python` followed by the name of your script file. For example:\n",
    "\n",
    "   \n",
    "   python my_script.py\n",
    "   \n",
    "\n",
    "   This command tells the Python interpreter to execute the code in the `my_script.py` file.\n",
    "\n",
    "6. Press Enter to run the command. The Python interpreter will read and execute your script, and any output or errors will be displayed in the command line.\n",
    "\n",
    "That's it! You have successfully written and executed a Python script from the command line. You can modify your script, save it, and re-run it by repeating steps 4-6 whenever needed."
   ]
  },
  {
   "cell_type": "markdown",
   "id": "6e5af18d-eb63-4252-b0d6-1d6a67de162c",
   "metadata": {},
   "source": [
    "Question.5"
   ]
  },
  {
   "cell_type": "code",
   "execution_count": 11,
   "id": "df8d31b2-379a-4560-a83d-08722650e34b",
   "metadata": {},
   "outputs": [
    {
     "name": "stdout",
     "output_type": "stream",
     "text": [
      "[2, 3]\n"
     ]
    }
   ],
   "source": [
    "my_list = [1, 2, 3, 4, 5]\n",
    "sub_list = my_list[1:3]\n",
    "print(sub_list)\n"
   ]
  },
  {
   "cell_type": "markdown",
   "id": "466f438f-c7a6-4ca8-89f4-dccb48f63b17",
   "metadata": {},
   "source": [
    "Question.6"
   ]
  },
  {
   "cell_type": "markdown",
   "id": "11d43106-4a13-405d-8d57-a600c53e3bbf",
   "metadata": {},
   "source": [
    "In mathematics, a complex number is a number that can be expressed in the form a + bi, where a and b are real numbers, and i is the imaginary unit defined as the square root of -1. The real part a represents the real value, while the imaginary part b represents the value multiplied by the imaginary unit i.\n",
    "\n",
    "In Python, complex numbers are fully supported as a built-in data type. They are represented by writing the imaginary part with a suffix of j or J. Here are a few examples of complex numbers in Python:"
   ]
  },
  {
   "cell_type": "code",
   "execution_count": 12,
   "id": "fb3fb984-d4a3-44d4-a2c4-fb9419bac7a0",
   "metadata": {},
   "outputs": [
    {
     "name": "stdout",
     "output_type": "stream",
     "text": [
      "(2+3j)\n",
      "(4+0j)\n",
      "5j\n"
     ]
    }
   ],
   "source": [
    "# Complex number with both real and imaginary parts\n",
    "z1 = 2 + 3j\n",
    "print(z1)  \n",
    "\n",
    "# Complex number with only real part\n",
    "z2 = 4 + 0j\n",
    "print(z2)  \n",
    "\n",
    "# Complex number with only imaginary part\n",
    "z3 = 0 + 5j\n",
    "print(z3)  \n"
   ]
  },
  {
   "cell_type": "markdown",
   "id": "b347e5dc-a570-4b89-bd6b-e98d7d468d0d",
   "metadata": {},
   "source": [
    "Question.7"
   ]
  },
  {
   "cell_type": "code",
   "execution_count": 20,
   "id": "c5d88fa7-db9f-4882-bb30-3f81a0359eac",
   "metadata": {},
   "outputs": [
    {
     "name": "stdout",
     "output_type": "stream",
     "text": [
      "25\n"
     ]
    }
   ],
   "source": [
    "age = 25\n",
    "print (age)"
   ]
  },
  {
   "cell_type": "markdown",
   "id": "0c598d2e-14dd-4452-80b0-353bf8557188",
   "metadata": {},
   "source": [
    "Question.8"
   ]
  },
  {
   "cell_type": "code",
   "execution_count": 19,
   "id": "28a90354-eb4c-40b6-b96a-012596535784",
   "metadata": {},
   "outputs": [
    {
     "name": "stdout",
     "output_type": "stream",
     "text": [
      "<class 'float'>\n"
     ]
    }
   ],
   "source": [
    "price = 9.99\n",
    "print(type(price))"
   ]
  },
  {
   "cell_type": "markdown",
   "id": "4e9f4a80-ed6f-478c-829b-7a86c5b170c0",
   "metadata": {},
   "source": [
    "Question.9"
   ]
  },
  {
   "cell_type": "code",
   "execution_count": 21,
   "id": "11635fc8-92dc-4ed7-9458-ec693eeabca8",
   "metadata": {},
   "outputs": [
    {
     "name": "stdout",
     "output_type": "stream",
     "text": [
      "RISHI DWIVEDI\n"
     ]
    }
   ],
   "source": [
    "name = \"RISHI DWIVEDI\"\n",
    "print(name)"
   ]
  },
  {
   "cell_type": "markdown",
   "id": "b080483a-7acc-443d-8d01-46ac3944187d",
   "metadata": {},
   "source": [
    "Question.10"
   ]
  },
  {
   "cell_type": "code",
   "execution_count": 26,
   "id": "09ce3d73-ea84-4810-b2d3-e86a349a742f",
   "metadata": {},
   "outputs": [
    {
     "name": "stdout",
     "output_type": "stream",
     "text": [
      "Hello World\n",
      "World\n"
     ]
    }
   ],
   "source": [
    "str_1  = \"Hello World\"\n",
    "print(str_1)\n",
    "sub_str = str_1[6:12]\n",
    "print(sub_str)"
   ]
  },
  {
   "cell_type": "markdown",
   "id": "677f2c8d-11c5-422a-9b18-66883a9ee75c",
   "metadata": {},
   "source": [
    "Question.11"
   ]
  },
  {
   "cell_type": "code",
   "execution_count": 30,
   "id": "9c70e993-5dcd-4dfc-bbf4-413e57667ac6",
   "metadata": {},
   "outputs": [
    {
     "name": "stdout",
     "output_type": "stream",
     "text": [
      "False\n"
     ]
    }
   ],
   "source": [
    "is_student = True  # Assign True if you are currently a student\n",
    "# OR\n",
    "is_student = False  # Assign False if you are not currently a student\n",
    "\n",
    "# Print the value of the variable\n",
    "print(is_student)\n"
   ]
  },
  {
   "cell_type": "code",
   "execution_count": null,
   "id": "d6b1be45-c49f-495a-b898-dbcc8a437010",
   "metadata": {},
   "outputs": [],
   "source": []
  }
 ],
 "metadata": {
  "kernelspec": {
   "display_name": "Python 3 (ipykernel)",
   "language": "python",
   "name": "python3"
  },
  "language_info": {
   "codemirror_mode": {
    "name": "ipython",
    "version": 3
   },
   "file_extension": ".py",
   "mimetype": "text/x-python",
   "name": "python",
   "nbconvert_exporter": "python",
   "pygments_lexer": "ipython3",
   "version": "3.10.8"
  }
 },
 "nbformat": 4,
 "nbformat_minor": 5
}
