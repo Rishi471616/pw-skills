{
 "cells": [
  {
   "cell_type": "code",
   "execution_count": null,
   "id": "5bbce138-2630-445f-a16c-6fe7b1a20a46",
   "metadata": {},
   "outputs": [],
   "source": [
    "Q1"
   ]
  },
  {
   "cell_type": "markdown",
   "id": "8172002c-1a45-45a7-b5fe-fc18fe79458e",
   "metadata": {},
   "source": [
    "Abstraction is a fundamental concept in object-oriented programming (OOP) that allows you to simplify complex reality by modeling classes based on real-world entities and their essential properties and behaviors, while hiding unnecessary implementation details. It involves focusing on the relevant characteristics of an object while ignoring the irrelevant ones.\n",
    "\n",
    "In simpler terms, abstraction lets you create a simplified representation of a real-world object in your code, highlighting only the aspects that are important for your current context, and hiding the inner complexities."
   ]
  },
  {
   "cell_type": "code",
   "execution_count": 1,
   "id": "d21f11e1-50a7-4a58-892f-0fa6e6d1a256",
   "metadata": {},
   "outputs": [
    {
     "name": "stdout",
     "output_type": "stream",
     "text": [
      "The Toyota car is moving at 60 mph.\n",
      "The Mountain bike is moving at 30 mph.\n",
      "The truck carrying Goods is moving at 50 mph.\n"
     ]
    }
   ],
   "source": [
    "class Vehicle:\n",
    "    def __init__(self, speed, capacity):\n",
    "        self.speed = speed\n",
    "        self.capacity = capacity\n",
    "\n",
    "    def move(self):\n",
    "        pass  # Abstract method, to be overridden by subclasses\n",
    "\n",
    "class Car(Vehicle):\n",
    "    def __init__(self, speed, capacity, brand):\n",
    "        super().__init__(speed, capacity)\n",
    "        self.brand = brand\n",
    "\n",
    "    def move(self):\n",
    "        print(f\"The {self.brand} car is moving at {self.speed} mph.\")\n",
    "\n",
    "class Bike(Vehicle):\n",
    "    def __init__(self, speed, capacity, type):\n",
    "        super().__init__(speed, capacity)\n",
    "        self.type = type\n",
    "\n",
    "    def move(self):\n",
    "        print(f\"The {self.type} bike is moving at {self.speed} mph.\")\n",
    "\n",
    "class Truck(Vehicle):\n",
    "    def __init__(self, speed, capacity, cargo):\n",
    "        super().__init__(speed, capacity)\n",
    "        self.cargo = cargo\n",
    "\n",
    "    def move(self):\n",
    "        print(f\"The truck carrying {self.cargo} is moving at {self.speed} mph.\")\n",
    "\n",
    "# Usage\n",
    "car = Car(60, 4, \"Toyota\")\n",
    "bike = Bike(30, 1, \"Mountain\")\n",
    "truck = Truck(50, 10, \"Goods\")\n",
    "\n",
    "car.move()\n",
    "bike.move()\n",
    "truck.move()\n"
   ]
  },
  {
   "cell_type": "code",
   "execution_count": null,
   "id": "0800c0d4-abef-42ad-9575-2fb4af49d98e",
   "metadata": {},
   "outputs": [],
   "source": [
    "Q2"
   ]
  },
  {
   "cell_type": "markdown",
   "id": "deca5f3b-b793-448b-9347-5252213e51da",
   "metadata": {},
   "source": [
    "Abstraction and encapsulation are two important concepts in object-oriented programming (OOP), and while they are related, they serve distinct purposes.\n",
    "\n",
    "Abstraction:\n",
    "\n",
    "Abstraction focuses on representing the essential features of an object while hiding the unnecessary details. It allows you to create a simplified model of a real-world entity by defining its attributes and behaviors that are relevant to your application. Abstraction is about defining interfaces, abstract classes, and methods that provide a high-level view of an object's functionality without revealing the internal implementation.\n",
    "\n",
    "Encapsulation:\n",
    "\n",
    "Encapsulation is about bundling the data (attributes) and methods (functions) that operate on the data into a single unit, known as a class. It restricts direct access to the internal state of an object and enforces controlled access through well-defined interfaces. Encapsulation helps in data hiding, preventing unintended modifications and ensuring that the object's state is only modified through controlled methods.\n",
    "\n",
    "Example:\n",
    "\n",
    "Let's continue with the \"Vehicle\" example to illustrate the difference between abstraction and encapsulation."
   ]
  },
  {
   "cell_type": "code",
   "execution_count": 2,
   "id": "fe56a97a-5f72-4fe9-89fb-e7a18447d17e",
   "metadata": {},
   "outputs": [
    {
     "name": "stdout",
     "output_type": "stream",
     "text": [
      "Car is moving.\n",
      "Bike is moving.\n"
     ]
    }
   ],
   "source": [
    "class Vehicle:\n",
    "    def __init__(self, speed):\n",
    "        self.speed = speed\n",
    "\n",
    "    def move(self):\n",
    "        pass  # Abstract method\n",
    "\n",
    "class Car(Vehicle):\n",
    "    def move(self):\n",
    "        print(\"Car is moving.\")\n",
    "\n",
    "class Bike(Vehicle):\n",
    "    def move(self):\n",
    "        print(\"Bike is moving.\")\n",
    "\n",
    "# Usage\n",
    "car = Car(60)\n",
    "bike = Bike(30)\n",
    "\n",
    "car.move()\n",
    "bike.move()\n"
   ]
  },
  {
   "cell_type": "code",
   "execution_count": 3,
   "id": "e5e84b1e-068b-4e2f-aa83-12b4de284ea9",
   "metadata": {},
   "outputs": [
    {
     "name": "stdout",
     "output_type": "stream",
     "text": [
      "Car is moving.\n",
      "Bike is moving.\n",
      "80\n"
     ]
    }
   ],
   "source": [
    "class Vehicle:\n",
    "    def __init__(self, speed):\n",
    "        self._speed = speed  # Protected attribute\n",
    "\n",
    "    def get_speed(self):\n",
    "        return self._speed\n",
    "\n",
    "    def set_speed(self, speed):\n",
    "        if speed > 0:\n",
    "            self._speed = speed\n",
    "\n",
    "    def move(self):\n",
    "        print(\"Vehicle is moving.\")\n",
    "\n",
    "class Car(Vehicle):\n",
    "    def move(self):\n",
    "        print(\"Car is moving.\")\n",
    "\n",
    "class Bike(Vehicle):\n",
    "    def move(self):\n",
    "        print(\"Bike is moving.\")\n",
    "\n",
    "# Usage\n",
    "car = Car(60)\n",
    "bike = Bike(30)\n",
    "\n",
    "car.move()\n",
    "bike.move()\n",
    "\n",
    "car.set_speed(80)\n",
    "print(car.get_speed())\n"
   ]
  },
  {
   "cell_type": "code",
   "execution_count": null,
   "id": "a0331db2-8ddb-4ad4-b1ae-ea86dde42e33",
   "metadata": {},
   "outputs": [],
   "source": [
    "Q3"
   ]
  },
  {
   "cell_type": "markdown",
   "id": "6f72068c-554b-4d3c-91d3-955ec79d8c7f",
   "metadata": {},
   "source": [
    "The abc module in Python stands for \"Abstract Base Classes.\" It provides a framework for creating abstract classes and defining abstract methods in Python. Abstract classes are classes that cannot be instantiated on their own but serve as a blueprint for other classes. Abstract methods are methods declared in an abstract class but don't have an implementation in the base class. Subclasses of the abstract class are required to provide concrete implementations for these abstract methods.\n",
    "\n",
    "The abc module is used to enforce a certain structure and behavior in subclasses, ensuring that they adhere to a common interface and follow a specific design pattern. It helps in achieving both abstraction and encapsulation, making code more organized and maintainable.\n",
    "\n",
    "Key components of the abc module:\n",
    "\n",
    "ABC (Abstract Base Class): This is the base class for defining other abstract classes. It is used as a decorator and indicates that the class is intended to be abstract.\n",
    "\n",
    "abstractmethod: This is a decorator that is used to declare abstract methods within an abstract class. Subclasses are required to implement these methods.\n",
    "\n",
    "abstractproperty: This is a decorator used to declare abstract properties within an abstract class. Similar to abstractmethod, subclasses need to provide concrete implementations for these properties.\n",
    "\n",
    "register(): This method is used to register a class as a virtual subclass of an abstract base class, even if it doesn't inherit from it directly.\n",
    "\n",
    "Here's a simple example of using the abc module to create an abstract class with abstract "
   ]
  },
  {
   "cell_type": "code",
   "execution_count": 4,
   "id": "70a1a47b-2aa4-44bc-8f9b-42cc2396c4b9",
   "metadata": {},
   "outputs": [
    {
     "name": "stdout",
     "output_type": "stream",
     "text": [
      "Circle Area: 78.5\n",
      "Circle Perimeter: 31.400000000000002\n",
      "Rectangle Area: 24\n",
      "Rectangle Perimeter: 20\n"
     ]
    }
   ],
   "source": [
    "from abc import ABC, abstractmethod\n",
    "\n",
    "class Shape(ABC):\n",
    "    @abstractmethod\n",
    "    def area(self):\n",
    "        pass\n",
    "\n",
    "    @abstractmethod\n",
    "    def perimeter(self):\n",
    "        pass\n",
    "\n",
    "class Circle(Shape):\n",
    "    def __init__(self, radius):\n",
    "        self.radius = radius\n",
    "\n",
    "    def area(self):\n",
    "        return 3.14 * self.radius * self.radius\n",
    "\n",
    "    def perimeter(self):\n",
    "        return 2 * 3.14 * self.radius\n",
    "\n",
    "class Rectangle(Shape):\n",
    "    def __init__(self, width, height):\n",
    "        self.width = width\n",
    "        self.height = height\n",
    "\n",
    "    def area(self):\n",
    "        return self.width * self.height\n",
    "\n",
    "    def perimeter(self):\n",
    "        return 2 * (self.width + self.height)\n",
    "\n",
    "# Usage\n",
    "circle = Circle(5)\n",
    "rectangle = Rectangle(4, 6)\n",
    "\n",
    "print(\"Circle Area:\", circle.area())\n",
    "print(\"Circle Perimeter:\", circle.perimeter())\n",
    "\n",
    "print(\"Rectangle Area:\", rectangle.area())\n",
    "print(\"Rectangle Perimeter:\", rectangle.perimeter())\n"
   ]
  },
  {
   "cell_type": "code",
   "execution_count": null,
   "id": "e4c4d417-8497-4861-ad89-7f83e6f519c7",
   "metadata": {},
   "outputs": [],
   "source": [
    "Q4"
   ]
  },
  {
   "cell_type": "markdown",
   "id": "0717361b-8969-4a02-b6d0-56b51128b5da",
   "metadata": {},
   "source": [
    "Data abstraction in programming refers to the concept of hiding complex implementation details and showing only the necessary features of an object. It involves focusing on the essential characteristics of an object while ignoring the less relevant details. In object-oriented programming (OOP), data abstraction is often achieved through the use of abstract classes and interfaces.\n",
    "\n",
    "Here's how you can achieve data abstraction in Python:\n",
    "\n",
    "Abstract Classes:\n",
    "\n",
    "Define an abstract base class that represents the abstract concept you want to model. This class should include abstract methods (methods without implementation) that define the essential behaviors of the object.\n",
    "Subclasses of the abstract base class provide concrete implementations for the abstract methods, thereby creating specific instances of the abstract concept.\n",
    "Abstract classes can't be instantiated directly; they serve as blueprints for subclasses.\n",
    "Abstract Methods:\n",
    "\n",
    "Abstract methods are methods declared in an abstract class that have no implementation in the base class. Subclasses are required to provide concrete implementations for these methods.\n",
    "Abstract methods are marked using the @abstractmethod decorator from the abc module.\n",
    "Interfaces:\n",
    "\n",
    "Interfaces are a way to achieve data abstraction in languages like Java. In Python, you can achieve similar behavior using abstract base classes and abstract methods.\n",
    "Define an abstract base class with abstract methods that represent the required behaviors. Subclasses implement these methods to fulfill the contract defined by the interface.\n",
    "Here's an example of achieving data abstraction using abstract classes in Python:"
   ]
  },
  {
   "cell_type": "code",
   "execution_count": 5,
   "id": "e641a68d-9d6c-426f-a082-6e1fcef8ffb0",
   "metadata": {},
   "outputs": [
    {
     "name": "stdout",
     "output_type": "stream",
     "text": [
      "Circle Area: 78.5\n",
      "Circle Perimeter: 31.400000000000002\n",
      "Rectangle Area: 24\n",
      "Rectangle Perimeter: 20\n"
     ]
    }
   ],
   "source": [
    "from abc import ABC, abstractmethod\n",
    "\n",
    "class Shape(ABC):\n",
    "    @abstractmethod\n",
    "    def area(self):\n",
    "        pass\n",
    "\n",
    "    @abstractmethod\n",
    "    def perimeter(self):\n",
    "        pass\n",
    "\n",
    "class Circle(Shape):\n",
    "    def __init__(self, radius):\n",
    "        self.radius = radius\n",
    "\n",
    "    def area(self):\n",
    "        return 3.14 * self.radius * self.radius\n",
    "\n",
    "    def perimeter(self):\n",
    "        return 2 * 3.14 * self.radius\n",
    "\n",
    "class Rectangle(Shape):\n",
    "    def __init__(self, width, height):\n",
    "        self.width = width\n",
    "        self.height = height\n",
    "\n",
    "    def area(self):\n",
    "        return self.width * self.height\n",
    "\n",
    "    def perimeter(self):\n",
    "        return 2 * (self.width + self.height)\n",
    "\n",
    "# Usage\n",
    "circle = Circle(5)\n",
    "rectangle = Rectangle(4, 6)\n",
    "\n",
    "print(\"Circle Area:\", circle.area())\n",
    "print(\"Circle Perimeter:\", circle.perimeter())\n",
    "\n",
    "print(\"Rectangle Area:\", rectangle.area())\n",
    "print(\"Rectangle Perimeter:\", rectangle.perimeter())\n"
   ]
  },
  {
   "cell_type": "code",
   "execution_count": null,
   "id": "beadae95-6580-4b85-8959-633009b07ca9",
   "metadata": {},
   "outputs": [],
   "source": [
    "Q5"
   ]
  },
  {
   "cell_type": "markdown",
   "id": "f4697d2e-ff6f-448c-91f3-2358fd5cb8aa",
   "metadata": {},
   "source": [
    " In Python, you can indeed create an instance of an abstract class, but it's important to note that you cannot create an instance of an abstract class that has abstract methods without providing concrete implementations for those methods in a subclass.\n",
    "\n",
    "To clarify:\n",
    "\n",
    "You can create an instance of an abstract class in Python, but only if the abstract class does not have any abstract methods, or if all the abstract methods have been implemented in the subclass.\n",
    "\n",
    "You cannot create an instance of an abstract class that has one or more abstract methods without providing implementations for those methods in a concrete subclass.\n",
    "\n",
    "Here's a example:"
   ]
  },
  {
   "cell_type": "code",
   "execution_count": 6,
   "id": "f357af5c-cfcf-4aa8-88d3-3047864e700d",
   "metadata": {},
   "outputs": [
    {
     "ename": "TypeError",
     "evalue": "Can't instantiate abstract class AbstractClassExample with abstract method abstract_method",
     "output_type": "error",
     "traceback": [
      "\u001b[0;31m---------------------------------------------------------------------------\u001b[0m",
      "\u001b[0;31mTypeError\u001b[0m                                 Traceback (most recent call last)",
      "Cell \u001b[0;32mIn[6], line 16\u001b[0m\n\u001b[1;32m     13\u001b[0m         \u001b[38;5;28;01mreturn\u001b[39;00m \u001b[38;5;124m\"\u001b[39m\u001b[38;5;124mThis is the concrete implementation of the abstract method.\u001b[39m\u001b[38;5;124m\"\u001b[39m\n\u001b[1;32m     15\u001b[0m \u001b[38;5;66;03m# Creating an instance of the abstract class\u001b[39;00m\n\u001b[0;32m---> 16\u001b[0m abstract_instance \u001b[38;5;241m=\u001b[39m \u001b[43mAbstractClassExample\u001b[49m\u001b[43m(\u001b[49m\u001b[43m)\u001b[49m\n\u001b[1;32m     18\u001b[0m \u001b[38;5;66;03m# Creating an instance of the concrete subclass\u001b[39;00m\n\u001b[1;32m     19\u001b[0m concrete_instance \u001b[38;5;241m=\u001b[39m ConcreteClass()\n",
      "\u001b[0;31mTypeError\u001b[0m: Can't instantiate abstract class AbstractClassExample with abstract method abstract_method"
     ]
    }
   ],
   "source": [
    "from abc import ABC, abstractmethod\n",
    "\n",
    "class AbstractClassExample(ABC):\n",
    "    def non_abstract_method(self):\n",
    "        return \"This is a non-abstract method.\"\n",
    "\n",
    "    @abstractmethod\n",
    "    def abstract_method(self):\n",
    "        pass\n",
    "\n",
    "class ConcreteClass(AbstractClassExample):\n",
    "    def abstract_method(self):\n",
    "        return \"This is the concrete implementation of the abstract method.\"\n",
    "\n",
    "# Creating an instance of the abstract class\n",
    "abstract_instance = AbstractClassExample()\n",
    "\n",
    "# Creating an instance of the concrete subclass\n",
    "concrete_instance = ConcreteClass()\n",
    "\n",
    "print(abstract_instance.non_abstract_method())  # Output: This is a non-abstract method.\n",
    "print(concrete_instance.non_abstract_method())  # Output: This is a non-abstract method.\n",
    "print(concrete_instance.abstract_method())       # Output: This is the concrete implementation of the abstract method.\n"
   ]
  },
  {
   "cell_type": "markdown",
   "id": "94b92be4-c51d-4ee4-aa93-b30437e8c170",
   "metadata": {},
   "source": [
    "In Python, you can define an abstract class using the abc module and the ABC (Abstract Base Class) metaclass. By using the @abstractmethod decorator, you declare methods as abstract within the abstract class. Any attempt to create an instance of such a class will result in a TypeError."
   ]
  }
 ],
 "metadata": {
  "kernelspec": {
   "display_name": "Python 3 (ipykernel)",
   "language": "python",
   "name": "python3"
  },
  "language_info": {
   "codemirror_mode": {
    "name": "ipython",
    "version": 3
   },
   "file_extension": ".py",
   "mimetype": "text/x-python",
   "name": "python",
   "nbconvert_exporter": "python",
   "pygments_lexer": "ipython3",
   "version": "3.10.8"
  }
 },
 "nbformat": 4,
 "nbformat_minor": 5
}
