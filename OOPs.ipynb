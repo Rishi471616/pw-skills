{
 "cells": [
  {
   "cell_type": "markdown",
   "id": "b5849500-1150-4d59-b304-67d5e527b374",
   "metadata": {},
   "source": [
    "Q1"
   ]
  },
  {
   "cell_type": "code",
   "execution_count": 1,
   "id": "6eb5d976-a4e3-4627-952c-14308381ec6a",
   "metadata": {},
   "outputs": [],
   "source": [
    "class Vehicle:\n",
    "    def __init__(self, name_of_vehicle, max_speed, average_of_vehicle):\n",
    "        self.name_of_vehicle = name_of_vehicle\n",
    "        self.max_speed = max_speed\n",
    "        self.average_of_vehicle = average_of_vehicle\n"
   ]
  },
  {
   "cell_type": "code",
   "execution_count": null,
   "id": "e9064b43-7eef-4436-aef4-5ab68ee6ba1f",
   "metadata": {},
   "outputs": [],
   "source": [
    "Q2"
   ]
  },
  {
   "cell_type": "code",
   "execution_count": 3,
   "id": "0ba96756-8093-4f0d-8bd1-82c43cfa0190",
   "metadata": {},
   "outputs": [],
   "source": [
    "class Vehicle:\n",
    "    def __init__(self, name_of_vehicle, max_speed, average_of_vehicle):\n",
    "        self.name_of_vehicle = name_of_vehicle\n",
    "        self.max_speed = max_speed\n",
    "        self.average_of_vehicle = average_of_vehicle\n",
    "\n",
    "class Car(Vehicle):\n",
    "    def __init__(self, name_of_vehicle, max_speed, average_of_vehicle):\n",
    "        super().__init__(name_of_vehicle, max_speed, average_of_vehicle)\n",
    "\n",
    "    def seating_capacity(self, capacity):\n",
    "        return f\"{self.name_of_vehicle} has a seating capacity of {capacity} passengers.\"\n"
   ]
  },
  {
   "cell_type": "code",
   "execution_count": 10,
   "id": "7219bfd1-8acf-4513-b9d1-4fc7162c74b0",
   "metadata": {},
   "outputs": [
    {
     "name": "stdout",
     "output_type": "stream",
     "text": [
      "Toyota Camry has a seating capacity of 5 passengers.\n"
     ]
    }
   ],
   "source": [
    "# Creating an instance of the Car class\n",
    "my_car = Car(\"Toyota Camry\", 180, 5)\n",
    "\n",
    "# Using the seating_capacity method\n",
    "print(my_car.seating_capacity(5))  # Output: \"Toyota Camry has a seating capacity of 5 passengers.\"\n"
   ]
  },
  {
   "cell_type": "code",
   "execution_count": null,
   "id": "9c833b24-7ff6-4cd1-9e00-66fa335531a5",
   "metadata": {},
   "outputs": [],
   "source": [
    "Q3"
   ]
  },
  {
   "cell_type": "markdown",
   "id": "7035aecc-e839-4288-abb0-0dcc9ffae38d",
   "metadata": {},
   "source": [
    "Multiple inheritance is a concept in object-oriented programming where a class can inherit attributes and methods from multiple parent classes. In Python, a class can inherit from more than one parent class, allowing it to access and use the attributes and methods defined in all of its parent classes."
   ]
  },
  {
   "cell_type": "code",
   "execution_count": 11,
   "id": "31b3bbb7-8a7d-4b4b-b8ba-d44b18b74332",
   "metadata": {},
   "outputs": [
    {
     "name": "stdout",
     "output_type": "stream",
     "text": [
      "Woof!\n",
      "Chirp!\n",
      "Charlie\n",
      "dog-bird hybrid\n",
      "Charlie is a dog-bird hybrid.\n"
     ]
    }
   ],
   "source": [
    "# Parent class 1\n",
    "class Dog:\n",
    "    def __init__(self, name):\n",
    "        self.name = name\n",
    "\n",
    "    def bark(self):\n",
    "        return \"Woof!\"\n",
    "\n",
    "# Parent class 2\n",
    "class Bird:\n",
    "    def __init__(self, name):\n",
    "        self.name = name\n",
    "\n",
    "    def chirp(self):\n",
    "        return \"Chirp!\"\n",
    "\n",
    "# Child class inheriting from both Dog and Bird classes\n",
    "class DogBird(Dog, Bird):\n",
    "    def __init__(self, name, species):\n",
    "        # Call both parent class constructors using super()\n",
    "        super().__init__(name)\n",
    "        Bird.__init__(self, name)\n",
    "        self.species = species\n",
    "\n",
    "    def display_species(self):\n",
    "        return f\"{self.name} is a {self.species}.\"\n",
    "\n",
    "# Creating an instance of the DogBird class\n",
    "my_pet = DogBird(\"Charlie\", \"dog-bird hybrid\")\n",
    "\n",
    "# Using methods from both parent classes\n",
    "print(my_pet.bark())    # Output: \"Woof!\"\n",
    "print(my_pet.chirp())   # Output: \"Chirp!\"\n",
    "\n",
    "# Accessing attributes from both parent classes\n",
    "print(my_pet.name)      # Output: \"Charlie\"\n",
    "print(my_pet.species)   # Output: \"dog-bird hybrid\"\n",
    "\n",
    "# Using a method defined in the child class\n",
    "print(my_pet.display_species())  # Output: \"Charlie is a dog-bird hybrid.\"\n"
   ]
  },
  {
   "cell_type": "code",
   "execution_count": null,
   "id": "5153ba1a-a581-45af-91de-552f43816183",
   "metadata": {},
   "outputs": [],
   "source": [
    "Q4"
   ]
  },
  {
   "cell_type": "markdown",
   "id": "82b1e3c3-5bff-4fca-869f-17c641878976",
   "metadata": {},
   "source": [
    "In Python, getters and setters are methods used to control access to the attributes (instance variables) of a class. They are commonly used to enforce data encapsulation and provide a way to set and retrieve the values of private attributes. Getters are used to fetch the value of an attribute, while setters are used to set or modify the value of an attribute, usually with some additional logic or validation."
   ]
  },
  {
   "cell_type": "code",
   "execution_count": 12,
   "id": "821098e7-ad86-4965-97f2-e7856a9863ba",
   "metadata": {},
   "outputs": [],
   "source": [
    "class MyClass:\n",
    "    def __init__(self):\n",
    "        self._my_attribute = None  # Private attribute (denoted with a single underscore)\n",
    "\n",
    "    # Getter method\n",
    "    def get_my_attribute(self):\n",
    "        return self._my_attribute\n",
    "\n",
    "    # Setter method\n",
    "    def set_my_attribute(self, value):\n",
    "        if isinstance(value, int) and value >= 0:\n",
    "            self._my_attribute = value\n",
    "        else:\n",
    "            raise ValueError(\"Invalid value. Attribute must be a non-negative integer.\")\n"
   ]
  },
  {
   "cell_type": "code",
   "execution_count": 13,
   "id": "827ff421-6d11-4359-877c-9a811c3e7d4f",
   "metadata": {},
   "outputs": [
    {
     "name": "stdout",
     "output_type": "stream",
     "text": [
      "42\n",
      "Invalid value. Attribute must be a non-negative integer.\n"
     ]
    }
   ],
   "source": [
    "# Creating an instance of MyClass\n",
    "obj = MyClass()\n",
    "\n",
    "# Using the setter method to set the value of the private attribute\n",
    "obj.set_my_attribute(42)\n",
    "\n",
    "# Using the getter method to retrieve the value of the private attribute\n",
    "print(obj.get_my_attribute())  # Output: 42\n",
    "\n",
    "# Trying to set an invalid value using the setter method\n",
    "try:\n",
    "    obj.set_my_attribute(-10)  # Raises ValueError\n",
    "except ValueError as e:\n",
    "    print(e)  # Output: \"Invalid value. Attribute must be a non-negative integer.\"\n"
   ]
  },
  {
   "cell_type": "code",
   "execution_count": null,
   "id": "7fca4fef-9008-4ae9-a39d-8742ad711ec8",
   "metadata": {},
   "outputs": [],
   "source": [
    "Q5"
   ]
  },
  {
   "cell_type": "markdown",
   "id": "50ec8b73-f17e-4663-b6c2-e3b6f7c13b57",
   "metadata": {},
   "source": [
    "Method overriding in Python is a concept in object-oriented programming where a subclass provides a specific implementation for a method that is already defined in its parent class. When a method is overridden in the subclass, the method in the parent class is effectively replaced by the new implementation in the subclass."
   ]
  },
  {
   "cell_type": "code",
   "execution_count": null,
   "id": "82737ff2-6f50-41c7-ae79-8e2360270f54",
   "metadata": {},
   "outputs": [],
   "source": [
    "Method overriding in Python is a concept in object-oriented programming where a subclass provides a specific implementation for a method that is already defined in its parent class. When a method is overridden in the subclass, the method in the parent class is effectively replaced by the new implementation in the subclass."
   ]
  }
 ],
 "metadata": {
  "kernelspec": {
   "display_name": "Python 3 (ipykernel)",
   "language": "python",
   "name": "python3"
  },
  "language_info": {
   "codemirror_mode": {
    "name": "ipython",
    "version": 3
   },
   "file_extension": ".py",
   "mimetype": "text/x-python",
   "name": "python",
   "nbconvert_exporter": "python",
   "pygments_lexer": "ipython3",
   "version": "3.10.8"
  }
 },
 "nbformat": 4,
 "nbformat_minor": 5
}
